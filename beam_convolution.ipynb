{
 "cells": [
  {
   "cell_type": "code",
   "execution_count": 5,
   "metadata": {},
   "outputs": [],
   "source": [
    "import pylab as plt\n",
    "import numpy as np\n",
    "from astropy.visualization import quantity_support\n",
    "from astropy import units as u\n",
    "from astropy import wcs\n",
    "from astropy.wcs import WCS\n",
    "from astropy.io import fits\n",
    "from astropy.coordinates import SkyCoord\n",
    "import astropy.units as u\n",
    "import matplotlib.patheffects as pe\n",
    "\n",
    "\n",
    "# set so that these display properly on black backgrounds\n",
    "#plt.rcParams['figure.facecolor']='w'\n",
    "\n",
    "from spectral_cube import SpectralCube\n",
    "from radio_beam import Beam\n",
    "\n",
    "\n",
    "from pvextractor import extract_pv_slice, Path, PathFromCenter"
   ]
  },
  {
   "cell_type": "code",
   "execution_count": 10,
   "metadata": {},
   "outputs": [
    {
     "name": "stderr",
     "output_type": "stream",
     "text": [
      "WARNING: StokesWarning: Cube is a Stokes cube, returning spectral cube for I component [spectral_cube.io.core]\n"
     ]
    },
    {
     "data": {
      "text/plain": [
       "VaryingResolutionSpectralCube with shape=(60, 144, 144) and unit=Jy / beam:\n",
       " n_x:    144  type_x: RA---SIN  unit_x: deg    range:   347.406190 deg:  347.457880 deg\n",
       " n_y:    144  type_y: DEC--SIN  unit_y: deg    range:    67.384148 deg:   67.404009 deg\n",
       " n_s:     60  type_s: VRAD      unit_s: km / s  range:      -16.227 km / s:       5.202 km / s"
      ]
     },
     "execution_count": 10,
     "metadata": {},
     "output_type": "execute_result"
    }
   ],
   "source": [
    "spectral_cube = SpectralCube.read('/Users/kristina/Hamburgers/Draculas_Chivito/SMA/data/DraChi.briggs0.12CO.LSRK.im.image_modified_header.fits')\n",
    "\n",
    "spectral_cube = spectral_cube.with_spectral_unit(unit=u.km/u.s, rest_value=230.538*u.GHz, velocity_convention='radio')\n",
    "spectral_cube._unit = u.Jy/u.beam\n",
    "\n",
    "spectral_cube"
   ]
  },
  {
   "cell_type": "code",
   "execution_count": 18,
   "metadata": {},
   "outputs": [
    {
     "name": "stderr",
     "output_type": "stream",
     "text": [
      "WARNING: PossiblySlowWarning: This function (<function VaryingResolutionSpectralCube.convolve_to at 0x13dda3d90>) requires loading the entire cube into memory and may therefore be slow. [spectral_cube.utils]\n"
     ]
    },
    {
     "name": "stdout",
     "output_type": "stream",
     "text": [
      "Loading up data...\n",
      "Defining channel-based mask...\n",
      "Estimating noise in the data...\n",
      "Estimated RMS: 1.13e-01.\n",
      "Calculating threshold-based mask...\n",
      "Masking the data...\n",
      "Calculating maps...\n",
      "Checking for NaNs in error maps.\n",
      "Saving moment maps...\n",
      "WARNING: No beam table found despite CASAMBM flag.\n",
      "WARNING: No beam table found despite CASAMBM flag.\n"
     ]
    }
   ],
   "source": [
    "cube_new_res = spectral_cube.convolve_to(Beam(6.*u.arcsec))\n",
    "cube_new_res.write('./6arcsec_res.fits', overwrite=True)\n",
    "!bettermoments ./6arcsec_res.fits -method zeroth -clip 2 -firstchannel 26 -lastchannel 48 --returnmask\n"
   ]
  },
  {
   "cell_type": "code",
   "execution_count": 19,
   "metadata": {},
   "outputs": [
    {
     "name": "stderr",
     "output_type": "stream",
     "text": [
      "WARNING: PossiblySlowWarning: This function (<function VaryingResolutionSpectralCube.convolve_to at 0x13dda3d90>) requires loading the entire cube into memory and may therefore be slow. [spectral_cube.utils]\n"
     ]
    },
    {
     "name": "stdout",
     "output_type": "stream",
     "text": [
      "Loading up data...\n",
      "Defining channel-based mask...\n",
      "Estimating noise in the data...\n",
      "Estimated RMS: 1.86e-01.\n",
      "Calculating threshold-based mask...\n",
      "Masking the data...\n",
      "Calculating maps...\n",
      "Checking for NaNs in error maps.\n",
      "Saving moment maps...\n",
      "WARNING: No beam table found despite CASAMBM flag.\n",
      "WARNING: No beam table found despite CASAMBM flag.\n"
     ]
    }
   ],
   "source": [
    "cube_new_res = spectral_cube.convolve_to(Beam(12.*u.arcsec))\n",
    "cube_new_res.write('./12arcsec_res.fits', overwrite=True)\n",
    "!bettermoments ./12arcsec_res.fits -method zeroth -clip 2 -firstchannel 26 -lastchannel 48 --returnmask\n"
   ]
  },
  {
   "cell_type": "code",
   "execution_count": null,
   "metadata": {},
   "outputs": [],
   "source": []
  }
 ],
 "metadata": {
  "kernelspec": {
   "display_name": "base",
   "language": "python",
   "name": "python3"
  },
  "language_info": {
   "codemirror_mode": {
    "name": "ipython",
    "version": 3
   },
   "file_extension": ".py",
   "mimetype": "text/x-python",
   "name": "python",
   "nbconvert_exporter": "python",
   "pygments_lexer": "ipython3",
   "version": "3.10.9"
  },
  "orig_nbformat": 4
 },
 "nbformat": 4,
 "nbformat_minor": 2
}
